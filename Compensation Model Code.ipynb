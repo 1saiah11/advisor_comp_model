{
 "cells": [
  {
   "cell_type": "code",
   "execution_count": 2,
   "id": "27bfe9b0-1361-40d5-8457-71dab56c8f66",
   "metadata": {},
   "outputs": [],
   "source": [
    "import pandas as pd\n",
    "import numpy as np\n",
    "import openpyxl  \n",
    "import xlsxwriter"
   ]
  },
  {
   "cell_type": "code",
   "execution_count": 3,
   "id": "4df6df20-6c02-4529-97c8-5b4e2bef51e5",
   "metadata": {},
   "outputs": [],
   "source": [
    "# Source file names\n",
    "fee_files = r\"C:\\Users\\iwalk\\Downloads\\Personal\\Comp Exercise\\Advisor Billing.xlsx\"\n",
    "rates_files = r\"C:\\Users\\iwalk\\Downloads\\Personal\\Comp Exercise\\Advisor Metrics.xlsx\"\n",
    "\n",
    "#File Sheets\n",
    "mgmt_df = pd.read_excel(fee_files, sheet_name=\"Management Bill\")\n",
    "sma_df = pd.read_excel(fee_files, sheet_name=\"SMA Fees\")\n",
    "charges_df = pd.read_excel(fee_files, sheet_name=\"Charges\")\n",
    "\n",
    "rates_df = pd.read_excel(rates_files, sheet_name=\"Rates\")\n",
    "splits_df = pd.read_excel(rates_files, sheet_name=\"Splits\")\n",
    "\n",
    "#Change format of account column\n",
    "pd.set_option('display.float_format', '{:,.2f}'.format)\n"
   ]
  },
  {
   "cell_type": "code",
   "execution_count": 4,
   "id": "ce30ad03-7de2-4f1e-a87c-1272c444d63c",
   "metadata": {
    "scrolled": true
   },
   "outputs": [],
   "source": [
    " #Remove commas and convert to float\n",
    "mgmt_df['Fee'] = mgmt_df['Fee'].replace('[\\$,]', '', regex=True).astype(float)\n",
    "mgmt_df['Total Account Value'] = mgmt_df['Total Account Value'].replace('[\\$,]', '', regex=True).astype(float)"
   ]
  },
  {
   "cell_type": "code",
   "execution_count": 5,
   "id": "bf4cb65a-6e2b-4bba-97dd-99902006c74f",
   "metadata": {},
   "outputs": [],
   "source": [
    "# Unpivot Management df\n",
    "\n",
    "mgmt_unpivoted = mgmt_df.melt(\n",
    "    id_vars=['Acct#', 'Fee', 'Total Account Value', 'Split'],\n",
    "    value_vars=['Service ', 'Sign', 'Intr'],\n",
    "    var_name='Role',\n",
    "    value_name='Advisor'\n",
    ")\n",
    "\n"
   ]
  },
  {
   "cell_type": "code",
   "execution_count": 6,
   "id": "c5af157f-48c6-44e3-9d7d-3778787accec",
   "metadata": {},
   "outputs": [],
   "source": [
    "# Normalize Role values\n",
    "mgmt_unpivoted['Role'] = mgmt_unpivoted['Role'].replace({'Service': 'Service', 'Sign': 'Sign', 'Intr': 'Intr'})"
   ]
  },
  {
   "cell_type": "code",
   "execution_count": 7,
   "id": "1d40254a-1957-4d90-a0b5-25d89423b01d",
   "metadata": {},
   "outputs": [],
   "source": [
    "# get rid of trailing zeros\n",
    "mgmt_unpivoted['Role'] = mgmt_unpivoted['Role'].str.strip()\n"
   ]
  },
  {
   "cell_type": "code",
   "execution_count": 8,
   "id": "1fa2cc7a-0792-40dc-9e1f-8344376d5ba1",
   "metadata": {},
   "outputs": [
    {
     "data": {
      "text/plain": [
       "array(['Service', 'Sign', 'Intr'], dtype=object)"
      ]
     },
     "execution_count": 8,
     "metadata": {},
     "output_type": "execute_result"
    }
   ],
   "source": [
    "#check for accuracy\n",
    "mgmt_unpivoted['Role'].unique()"
   ]
  },
  {
   "cell_type": "code",
   "execution_count": 9,
   "id": "832607ca-d43f-4762-8cbf-da5e39cdb954",
   "metadata": {},
   "outputs": [],
   "source": [
    "#unpivot SMA Fee data\n",
    "sma_unpivoted = sma_df.melt(\n",
    "    id_vars = ['Acct#','Fee','Split'],\n",
    "    value_vars = ['Service ', 'Sign', 'Intr'],\n",
    "    var_name = 'Role',\n",
    "    value_name = 'Advisor'\n",
    ")"
   ]
  },
  {
   "cell_type": "code",
   "execution_count": 10,
   "id": "84103ab4-909f-49e8-b75d-9b07a9eeb8ee",
   "metadata": {},
   "outputs": [],
   "source": [
    "sma_unpivoted['Role'] = sma_unpivoted['Role'].str.strip()\n",
    "sma_unpivoted['Advisor'] = sma_unpivoted['Advisor'].str.strip()\n"
   ]
  },
  {
   "cell_type": "code",
   "execution_count": 11,
   "id": "5f95bd62-0fe1-47bf-885a-31971737b249",
   "metadata": {},
   "outputs": [
    {
     "data": {
      "text/plain": [
       "array(['Service', 'Sign', 'Intr'], dtype=object)"
      ]
     },
     "execution_count": 11,
     "metadata": {},
     "output_type": "execute_result"
    }
   ],
   "source": [
    "sma_unpivoted['Role'].unique()"
   ]
  },
  {
   "cell_type": "code",
   "execution_count": 12,
   "id": "f0edb486-f995-415d-88cc-e604b55504c0",
   "metadata": {},
   "outputs": [],
   "source": [
    "charges_unpivoted = charges_df.melt(\n",
    "    id_vars = ['Acct#','Fee','Split'],\n",
    "    value_vars = ['Service ', 'Sign', 'Intr'],\n",
    "    var_name = 'Role',\n",
    "    value_name = 'Advisor'\n",
    ")"
   ]
  },
  {
   "cell_type": "code",
   "execution_count": 13,
   "id": "02056a5a-4f53-4efc-a6b0-a681f588906a",
   "metadata": {},
   "outputs": [],
   "source": [
    "charges_unpivoted = charges_df.melt(\n",
    "    id_vars = ['Acct#','Fee','Split'],\n",
    "    value_vars = ['Service ', 'Sign', 'Intr'],\n",
    "    var_name = 'Role',\n",
    "    value_name = 'Advisor'\n",
    ")"
   ]
  },
  {
   "cell_type": "code",
   "execution_count": 14,
   "id": "6262eb66-e0f9-4f37-a89a-a020c7326c5b",
   "metadata": {},
   "outputs": [],
   "source": [
    "charges_unpivoted['Role'] = charges_unpivoted['Role'].str.strip()"
   ]
  },
  {
   "cell_type": "code",
   "execution_count": 15,
   "id": "94ceedbe-fc2c-4ced-92fa-bb223d8ae940",
   "metadata": {},
   "outputs": [
    {
     "data": {
      "text/plain": [
       "array(['Service', 'Sign', 'Intr'], dtype=object)"
      ]
     },
     "execution_count": 15,
     "metadata": {},
     "output_type": "execute_result"
    }
   ],
   "source": [
    "charges_unpivoted['Role'].unique()"
   ]
  },
  {
   "cell_type": "code",
   "execution_count": 16,
   "id": "8443977f-e1f7-4945-8dee-a8728950bc82",
   "metadata": {},
   "outputs": [],
   "source": [
    "rates_df.columns = rates_df.columns.str.strip()\n",
    "rates_df['Advisor'] = rates_df['Advisor'].str.strip()"
   ]
  },
  {
   "cell_type": "code",
   "execution_count": 17,
   "id": "fce45b50-f1cf-47c3-b74f-d5685a61e31f",
   "metadata": {},
   "outputs": [
    {
     "data": {
      "text/html": [
       "<div>\n",
       "<style scoped>\n",
       "    .dataframe tbody tr th:only-of-type {\n",
       "        vertical-align: middle;\n",
       "    }\n",
       "\n",
       "    .dataframe tbody tr th {\n",
       "        vertical-align: top;\n",
       "    }\n",
       "\n",
       "    .dataframe thead th {\n",
       "        text-align: right;\n",
       "    }\n",
       "</style>\n",
       "<table border=\"1\" class=\"dataframe\">\n",
       "  <thead>\n",
       "    <tr style=\"text-align: right;\">\n",
       "      <th></th>\n",
       "      <th>Advisor</th>\n",
       "      <th>Advisor ID</th>\n",
       "      <th>Servicing</th>\n",
       "      <th>Signing</th>\n",
       "      <th>Intro</th>\n",
       "    </tr>\n",
       "  </thead>\n",
       "  <tbody>\n",
       "    <tr>\n",
       "      <th>0</th>\n",
       "      <td>Jane Lane</td>\n",
       "      <td>1</td>\n",
       "      <td>0.20</td>\n",
       "      <td>0.12</td>\n",
       "      <td>0.03</td>\n",
       "    </tr>\n",
       "    <tr>\n",
       "      <th>1</th>\n",
       "      <td>Luke Davil</td>\n",
       "      <td>2</td>\n",
       "      <td>0.15</td>\n",
       "      <td>0.08</td>\n",
       "      <td>0.02</td>\n",
       "    </tr>\n",
       "    <tr>\n",
       "      <th>2</th>\n",
       "      <td>Chris Prirtell</td>\n",
       "      <td>3</td>\n",
       "      <td>0.18</td>\n",
       "      <td>0.06</td>\n",
       "      <td>0.05</td>\n",
       "    </tr>\n",
       "    <tr>\n",
       "      <th>3</th>\n",
       "      <td>Patik Sadiq</td>\n",
       "      <td>4</td>\n",
       "      <td>0.13</td>\n",
       "      <td>0.03</td>\n",
       "      <td>0.09</td>\n",
       "    </tr>\n",
       "    <tr>\n",
       "      <th>4</th>\n",
       "      <td>James Tama</td>\n",
       "      <td>5</td>\n",
       "      <td>0.22</td>\n",
       "      <td>0.11</td>\n",
       "      <td>0.05</td>\n",
       "    </tr>\n",
       "    <tr>\n",
       "      <th>5</th>\n",
       "      <td>Jennifer Kennigston</td>\n",
       "      <td>6</td>\n",
       "      <td>0.35</td>\n",
       "      <td>0.17</td>\n",
       "      <td>0.10</td>\n",
       "    </tr>\n",
       "    <tr>\n",
       "      <th>6</th>\n",
       "      <td>Fiona Ryder</td>\n",
       "      <td>7</td>\n",
       "      <td>0.10</td>\n",
       "      <td>0.05</td>\n",
       "      <td>0.03</td>\n",
       "    </tr>\n",
       "    <tr>\n",
       "      <th>7</th>\n",
       "      <td>Jacky Cambell</td>\n",
       "      <td>8</td>\n",
       "      <td>0.08</td>\n",
       "      <td>0.01</td>\n",
       "      <td>0.05</td>\n",
       "    </tr>\n",
       "    <tr>\n",
       "      <th>8</th>\n",
       "      <td>Brackton Backer</td>\n",
       "      <td>9</td>\n",
       "      <td>0.13</td>\n",
       "      <td>0.06</td>\n",
       "      <td>0.16</td>\n",
       "    </tr>\n",
       "  </tbody>\n",
       "</table>\n",
       "</div>"
      ],
      "text/plain": [
       "               Advisor  Advisor ID  Servicing  Signing  Intro\n",
       "0            Jane Lane           1       0.20     0.12   0.03\n",
       "1           Luke Davil           2       0.15     0.08   0.02\n",
       "2       Chris Prirtell           3       0.18     0.06   0.05\n",
       "3          Patik Sadiq           4       0.13     0.03   0.09\n",
       "4           James Tama           5       0.22     0.11   0.05\n",
       "5  Jennifer Kennigston           6       0.35     0.17   0.10\n",
       "6          Fiona Ryder           7       0.10     0.05   0.03\n",
       "7        Jacky Cambell           8       0.08     0.01   0.05\n",
       "8      Brackton Backer           9       0.13     0.06   0.16"
      ]
     },
     "execution_count": 17,
     "metadata": {},
     "output_type": "execute_result"
    }
   ],
   "source": [
    "rates_df"
   ]
  },
  {
   "cell_type": "code",
   "execution_count": 18,
   "id": "ab2fd671-3f34-4a57-82fa-2dc11df2e34e",
   "metadata": {},
   "outputs": [],
   "source": [
    "# unpivot rates to match Fee Df formats\n",
    "\n",
    "rates_melted = pd.melt(\n",
    "    rates_df,\n",
    "    id_vars='Advisor',\n",
    "    value_vars=['Servicing', 'Signing', 'Intro'],\n",
    "    var_name='Role',\n",
    "    value_name='Rate'\n",
    ")\n",
    "\n",
    "# Normalize Role names to match 'Service', 'Sign', 'Intr'\n",
    "rates_melted['Role'] = rates_melted['Role'].replace({\n",
    "    'Servicing': 'Service',\n",
    "    'Signing': 'Sign',\n",
    "    'Intro': 'Intr'\n",
    "})"
   ]
  },
  {
   "cell_type": "code",
   "execution_count": 19,
   "id": "23f1c384-9804-4636-a3cd-aa6fdb38d300",
   "metadata": {},
   "outputs": [],
   "source": [
    "#Merge Dfs\n",
    "mgmt_merged = mgmt_unpivoted.merge(rates_melted, on=['Advisor', 'Role'], how='left')\n",
    "\n",
    "sma_merged = sma_unpivoted.merge(rates_melted, on=['Advisor', 'Role'], how='left')\n",
    "\n",
    "charges_merged = charges_unpivoted.merge(rates_melted, on=['Advisor', 'Role'], how='left')\n",
    "#print(charges_merged)"
   ]
  },
  {
   "cell_type": "code",
   "execution_count": 20,
   "id": "03e17243-e53c-4bff-8398-af965aec1da9",
   "metadata": {},
   "outputs": [
    {
     "data": {
      "text/plain": [
       "True"
      ]
     },
     "execution_count": 20,
     "metadata": {},
     "output_type": "execute_result"
    }
   ],
   "source": [
    "# Add Base commision column to each Df (Fee * Rate)\n",
    "mgmt_merged['Base Commission'] = mgmt_merged['Fee'] * mgmt_merged['Rate']\n",
    "sma_merged['Base Commission'] = sma_merged['Fee'] * sma_merged['Rate']\n",
    "charges_merged['Base Commission'] = charges_merged['Fee'] * charges_merged['Rate']\n",
    "\n",
    "#check for acc\n",
    "1132927.8931 == mgmt_merged['Base Commission'].sum()"
   ]
  },
  {
   "cell_type": "code",
   "execution_count": 21,
   "id": "c1c80c95-74c2-4c35-9db8-641e0afe8d42",
   "metadata": {},
   "outputs": [],
   "source": [
    "mgmt_merged = mgmt_merged.merge(\n",
    "    splits_df,\n",
    "    left_on='Split',\n",
    "    right_on='Split Code',\n",
    "    how='left'\n",
    ")"
   ]
  },
  {
   "cell_type": "code",
   "execution_count": 22,
   "id": "082c4d46-5cbf-4d89-a947-a2f371581486",
   "metadata": {},
   "outputs": [],
   "source": [
    "sma_merged = sma_merged.merge(\n",
    "    splits_df,\n",
    "    left_on='Split',\n",
    "    right_on='Split Code',\n",
    "    how='left')"
   ]
  },
  {
   "cell_type": "code",
   "execution_count": 23,
   "id": "5e1709cc-5a02-49f3-8315-3447c4b1424f",
   "metadata": {},
   "outputs": [],
   "source": [
    "charges_merged = charges_merged.merge(\n",
    "    splits_df,\n",
    "    left_on='Split',\n",
    "    right_on='Split Code',\n",
    "    how='left'\n",
    ")"
   ]
  },
  {
   "cell_type": "code",
   "execution_count": 24,
   "id": "777a323d-a167-4be8-92a3-61df3d1d5db0",
   "metadata": {
    "scrolled": true
   },
   "outputs": [],
   "source": [
    "# If split code is not null, change split percentage to 50% for cambell and backer\n",
    "for df in [mgmt_merged, sma_merged, charges_merged]:\n",
    "    df['Split %'] = df['Split Code'].apply(\n",
    "        lambda x: 1 if pd.isna(x) else 0.5 if x in ['Cambell1', 'Backer1'] else None\n",
    "    )"
   ]
  },
  {
   "cell_type": "code",
   "execution_count": 25,
   "id": "b38ab34b-9daf-4c57-b6a2-689f088ea2b8",
   "metadata": {},
   "outputs": [],
   "source": [
    "# Multiplying base commissions with split percentage for advisors with split (to add back later)\n",
    "for df in [mgmt_merged, sma_merged, charges_merged]:\n",
    "    df['Split Amount'] = df['Base Commission'] * df['Split %']"
   ]
  },
  {
   "cell_type": "code",
   "execution_count": 26,
   "id": "628086fe-7a98-4a95-9b2d-a8596edd9d9b",
   "metadata": {},
   "outputs": [
    {
     "data": {
      "text/html": [
       "<div>\n",
       "<style scoped>\n",
       "    .dataframe tbody tr th:only-of-type {\n",
       "        vertical-align: middle;\n",
       "    }\n",
       "\n",
       "    .dataframe tbody tr th {\n",
       "        vertical-align: top;\n",
       "    }\n",
       "\n",
       "    .dataframe thead th {\n",
       "        text-align: right;\n",
       "    }\n",
       "</style>\n",
       "<table border=\"1\" class=\"dataframe\">\n",
       "  <thead>\n",
       "    <tr style=\"text-align: right;\">\n",
       "      <th></th>\n",
       "      <th>Acct#</th>\n",
       "      <th>Fee</th>\n",
       "      <th>Total Account Value</th>\n",
       "      <th>Split</th>\n",
       "      <th>Role</th>\n",
       "      <th>Advisor</th>\n",
       "      <th>Rate</th>\n",
       "      <th>Base Commission</th>\n",
       "      <th>Advisor to Split</th>\n",
       "      <th>Split Code</th>\n",
       "      <th>Split %</th>\n",
       "      <th>Split Amount</th>\n",
       "    </tr>\n",
       "  </thead>\n",
       "  <tbody>\n",
       "    <tr>\n",
       "      <th>0</th>\n",
       "      <td>4580427</td>\n",
       "      <td>4,647.75</td>\n",
       "      <td>2,446,184.21</td>\n",
       "      <td>NONE</td>\n",
       "      <td>Service</td>\n",
       "      <td>Jennifer Kennigston</td>\n",
       "      <td>0.35</td>\n",
       "      <td>1,626.71</td>\n",
       "      <td>NaN</td>\n",
       "      <td>NaN</td>\n",
       "      <td>1.00</td>\n",
       "      <td>1,626.71</td>\n",
       "    </tr>\n",
       "    <tr>\n",
       "      <th>1</th>\n",
       "      <td>6761210</td>\n",
       "      <td>303.30</td>\n",
       "      <td>514,052.74</td>\n",
       "      <td>NONE</td>\n",
       "      <td>Service</td>\n",
       "      <td>Jacky Cambell</td>\n",
       "      <td>0.08</td>\n",
       "      <td>24.26</td>\n",
       "      <td>NaN</td>\n",
       "      <td>NaN</td>\n",
       "      <td>1.00</td>\n",
       "      <td>24.26</td>\n",
       "    </tr>\n",
       "    <tr>\n",
       "      <th>2</th>\n",
       "      <td>8634780</td>\n",
       "      <td>919.61</td>\n",
       "      <td>2,561,431.71</td>\n",
       "      <td>NONE</td>\n",
       "      <td>Service</td>\n",
       "      <td>Jacky Cambell</td>\n",
       "      <td>0.08</td>\n",
       "      <td>73.57</td>\n",
       "      <td>NaN</td>\n",
       "      <td>NaN</td>\n",
       "      <td>1.00</td>\n",
       "      <td>73.57</td>\n",
       "    </tr>\n",
       "    <tr>\n",
       "      <th>3</th>\n",
       "      <td>4163878</td>\n",
       "      <td>1,616.05</td>\n",
       "      <td>778,295.29</td>\n",
       "      <td>NONE</td>\n",
       "      <td>Service</td>\n",
       "      <td>Chris Prirtell</td>\n",
       "      <td>0.18</td>\n",
       "      <td>290.89</td>\n",
       "      <td>NaN</td>\n",
       "      <td>NaN</td>\n",
       "      <td>1.00</td>\n",
       "      <td>290.89</td>\n",
       "    </tr>\n",
       "    <tr>\n",
       "      <th>4</th>\n",
       "      <td>9144236</td>\n",
       "      <td>1,678.75</td>\n",
       "      <td>1,528,946.53</td>\n",
       "      <td>NONE</td>\n",
       "      <td>Service</td>\n",
       "      <td>Chris Prirtell</td>\n",
       "      <td>0.18</td>\n",
       "      <td>302.18</td>\n",
       "      <td>NaN</td>\n",
       "      <td>NaN</td>\n",
       "      <td>1.00</td>\n",
       "      <td>302.18</td>\n",
       "    </tr>\n",
       "  </tbody>\n",
       "</table>\n",
       "</div>"
      ],
      "text/plain": [
       "     Acct#      Fee  Total Account Value Split     Role              Advisor  \\\n",
       "0  4580427 4,647.75         2,446,184.21  NONE  Service  Jennifer Kennigston   \n",
       "1  6761210   303.30           514,052.74  NONE  Service        Jacky Cambell   \n",
       "2  8634780   919.61         2,561,431.71  NONE  Service        Jacky Cambell   \n",
       "3  4163878 1,616.05           778,295.29  NONE  Service       Chris Prirtell   \n",
       "4  9144236 1,678.75         1,528,946.53  NONE  Service       Chris Prirtell   \n",
       "\n",
       "   Rate  Base Commission Advisor to Split Split Code  Split %  Split Amount  \n",
       "0  0.35         1,626.71              NaN        NaN     1.00      1,626.71  \n",
       "1  0.08            24.26              NaN        NaN     1.00         24.26  \n",
       "2  0.08            73.57              NaN        NaN     1.00         73.57  \n",
       "3  0.18           290.89              NaN        NaN     1.00        290.89  \n",
       "4  0.18           302.18              NaN        NaN     1.00        302.18  "
      ]
     },
     "execution_count": 26,
     "metadata": {},
     "output_type": "execute_result"
    }
   ],
   "source": [
    "mgmt_merged.head()"
   ]
  },
  {
   "cell_type": "code",
   "execution_count": 27,
   "id": "95aa9cb1-77e2-45b2-9fce-1bde052de12e",
   "metadata": {},
   "outputs": [],
   "source": [
    "# If advisor has a split and the split is with themself, we take half of the fee and add it to their original commission)\n",
    "\n",
    "for df in [mgmt_merged, sma_merged, charges_merged]:\n",
    "    df['Split Amount'] = df['Base Commission'] * df['Split %']\n",
    "    df['Final Commission'] = df.apply(\n",
    "        lambda row: row['Split Amount'] + (row['Fee'] * row['Split %'])\n",
    "        if (row['Split Code'] == 'Cambell1' and row['Advisor'] == 'Jacky Cambell')\n",
    "        or (row['Split Code'] == 'Backer1' and row['Advisor'] == 'Brackton Backer')\n",
    "        else row['Split Amount'],\n",
    "        axis=1\n",
    "    )"
   ]
  },
  {
   "cell_type": "code",
   "execution_count": 28,
   "id": "05b39717-2550-43ac-8d54-ec9bc7414a9d",
   "metadata": {},
   "outputs": [],
   "source": [
    "# Cleaning - Listing relevant columns\n",
    "final_cols = [\n",
    "    'Advisor',\n",
    "    'Acct#',\n",
    "    'Total Account Value',\n",
    "    'Role',\n",
    "    'Fee',\n",
    "    'Split Code',\n",
    "    'Rate',\n",
    "    'Split %',\n",
    "    'Base Commission',\n",
    "    'Split Amount',\n",
    "    'Final Commission'\n",
    "]\n",
    "\n",
    "# Filter and reorder mgmt_merged accordingly\n",
    "mgmt_clean = mgmt_merged[final_cols]"
   ]
  },
  {
   "cell_type": "code",
   "execution_count": 29,
   "id": "842958bd-b11b-451e-996c-60e0171512a1",
   "metadata": {},
   "outputs": [],
   "source": [
    "mgmt_final = mgmt_clean  "
   ]
  },
  {
   "cell_type": "code",
   "execution_count": 30,
   "id": "9cf386dc-11fb-42c7-bb05-0ad3fe47c87b",
   "metadata": {},
   "outputs": [],
   "source": [
    "sma_final_cols = [\n",
    "    'Advisor',\n",
    "    'Acct#',\n",
    "    'Role',\n",
    "    'Fee',\n",
    "    'Split Code',\n",
    "    'Rate',\n",
    "    'Split %',\n",
    "    'Base Commission',\n",
    "    'Split Amount',\n",
    "    'Final Commission'\n",
    "]\n",
    "\n",
    "sma_final = sma_merged[sma_final_cols]"
   ]
  },
  {
   "cell_type": "code",
   "execution_count": 31,
   "id": "cfb7159a-63b5-4170-a9b3-53df2382a188",
   "metadata": {},
   "outputs": [],
   "source": [
    "charges_final_cols = [\n",
    "    'Advisor',\n",
    "    'Acct#',\n",
    "    'Role',\n",
    "    'Fee',\n",
    "    'Split Code',\n",
    "    'Rate',\n",
    "    'Split %',\n",
    "    'Base Charge',\n",
    "    'Split Amount',\n",
    "    'Final Charge'\n",
    "]\n",
    "# Renaming base and final commission to base and final charge\n",
    "charges_merged = charges_merged.rename(columns={\n",
    "    'Base Commission': 'Base Charge',\n",
    "    'Final Commission': 'Final Charge'\n",
    "})\n",
    "\n",
    "# Reordering & keep relevant columns\n",
    "charges_final = charges_merged[charges_final_cols]\n"
   ]
  },
  {
   "cell_type": "code",
   "execution_count": 32,
   "id": "d8cb2d1c-79f5-4ee3-8438-3ee2bb06672b",
   "metadata": {},
   "outputs": [
    {
     "data": {
      "text/html": [
       "<div>\n",
       "<style scoped>\n",
       "    .dataframe tbody tr th:only-of-type {\n",
       "        vertical-align: middle;\n",
       "    }\n",
       "\n",
       "    .dataframe tbody tr th {\n",
       "        vertical-align: top;\n",
       "    }\n",
       "\n",
       "    .dataframe thead th {\n",
       "        text-align: right;\n",
       "    }\n",
       "</style>\n",
       "<table border=\"1\" class=\"dataframe\">\n",
       "  <thead>\n",
       "    <tr style=\"text-align: right;\">\n",
       "      <th></th>\n",
       "      <th>Advisor</th>\n",
       "      <th>Acct#</th>\n",
       "      <th>Role</th>\n",
       "      <th>Fee</th>\n",
       "      <th>Split Code</th>\n",
       "      <th>Rate</th>\n",
       "      <th>Split %</th>\n",
       "      <th>Base Charge</th>\n",
       "      <th>Split Amount</th>\n",
       "      <th>Final Charge</th>\n",
       "    </tr>\n",
       "  </thead>\n",
       "  <tbody>\n",
       "    <tr>\n",
       "      <th>0</th>\n",
       "      <td>Chris Prirtell</td>\n",
       "      <td>4830049</td>\n",
       "      <td>Service</td>\n",
       "      <td>823.60</td>\n",
       "      <td>Cambell1</td>\n",
       "      <td>0.18</td>\n",
       "      <td>0.50</td>\n",
       "      <td>148.25</td>\n",
       "      <td>74.12</td>\n",
       "      <td>74.12</td>\n",
       "    </tr>\n",
       "    <tr>\n",
       "      <th>1</th>\n",
       "      <td>Luke Davil</td>\n",
       "      <td>9748094</td>\n",
       "      <td>Service</td>\n",
       "      <td>872.97</td>\n",
       "      <td>NaN</td>\n",
       "      <td>0.15</td>\n",
       "      <td>1.00</td>\n",
       "      <td>130.95</td>\n",
       "      <td>130.95</td>\n",
       "      <td>130.95</td>\n",
       "    </tr>\n",
       "    <tr>\n",
       "      <th>2</th>\n",
       "      <td>Jacky Cambell</td>\n",
       "      <td>3163812</td>\n",
       "      <td>Service</td>\n",
       "      <td>4.39</td>\n",
       "      <td>NaN</td>\n",
       "      <td>0.08</td>\n",
       "      <td>1.00</td>\n",
       "      <td>0.35</td>\n",
       "      <td>0.35</td>\n",
       "      <td>0.35</td>\n",
       "    </tr>\n",
       "    <tr>\n",
       "      <th>3</th>\n",
       "      <td>Chris Prirtell</td>\n",
       "      <td>2822293</td>\n",
       "      <td>Service</td>\n",
       "      <td>1,159.04</td>\n",
       "      <td>NaN</td>\n",
       "      <td>0.18</td>\n",
       "      <td>1.00</td>\n",
       "      <td>208.63</td>\n",
       "      <td>208.63</td>\n",
       "      <td>208.63</td>\n",
       "    </tr>\n",
       "    <tr>\n",
       "      <th>4</th>\n",
       "      <td>Jacky Cambell</td>\n",
       "      <td>1660261</td>\n",
       "      <td>Service</td>\n",
       "      <td>32.12</td>\n",
       "      <td>NaN</td>\n",
       "      <td>0.08</td>\n",
       "      <td>1.00</td>\n",
       "      <td>2.57</td>\n",
       "      <td>2.57</td>\n",
       "      <td>2.57</td>\n",
       "    </tr>\n",
       "  </tbody>\n",
       "</table>\n",
       "</div>"
      ],
      "text/plain": [
       "          Advisor    Acct#     Role      Fee Split Code  Rate  Split %  \\\n",
       "0  Chris Prirtell  4830049  Service   823.60   Cambell1  0.18     0.50   \n",
       "1      Luke Davil  9748094  Service   872.97        NaN  0.15     1.00   \n",
       "2   Jacky Cambell  3163812  Service     4.39        NaN  0.08     1.00   \n",
       "3  Chris Prirtell  2822293  Service 1,159.04        NaN  0.18     1.00   \n",
       "4   Jacky Cambell  1660261  Service    32.12        NaN  0.08     1.00   \n",
       "\n",
       "   Base Charge  Split Amount  Final Charge  \n",
       "0       148.25         74.12         74.12  \n",
       "1       130.95        130.95        130.95  \n",
       "2         0.35          0.35          0.35  \n",
       "3       208.63        208.63        208.63  \n",
       "4         2.57          2.57          2.57  "
      ]
     },
     "execution_count": 32,
     "metadata": {},
     "output_type": "execute_result"
    }
   ],
   "source": [
    "charges_final.head()"
   ]
  },
  {
   "cell_type": "code",
   "execution_count": null,
   "id": "8f1e3702-eda2-4102-a1cd-8025f35733a1",
   "metadata": {},
   "outputs": [],
   "source": []
  },
  {
   "cell_type": "code",
   "execution_count": 33,
   "id": "b231bf0f-47b1-4f7a-aa44-82e54af6a359",
   "metadata": {},
   "outputs": [
    {
     "name": "stdout",
     "output_type": "stream",
     "text": [
      "Workbook created for Jane Lane: Payout_Jane_Lane_Final.xlsx\n",
      "Workbook created for Luke Davil: Payout_Luke_Davil_Final.xlsx\n",
      "Workbook created for Chris Prirtell: Payout_Chris_Prirtell_Final.xlsx\n",
      "Workbook created for Patik Sadiq: Payout_Patik_Sadiq_Final.xlsx\n",
      "Workbook created for James Tama: Payout_James_Tama_Final.xlsx\n",
      "Workbook created for Jennifer Kennigston: Payout_Jennifer_Kennigston_Final.xlsx\n",
      "Workbook created for Fiona Ryder: Payout_Fiona_Ryder_Final.xlsx\n",
      "Workbook created for Jacky Cambell: Payout_Jacky_Cambell_Final.xlsx\n",
      "Workbook created for Brackton Backer: Payout_Brackton_Backer_Final.xlsx\n"
     ]
    }
   ],
   "source": [
    "# Get list of all advisors to create spreadsheet for\n",
    "unique_advisors = rates_df['Advisor'].dropna().unique()\n",
    "\n",
    "for advisor_name in unique_advisors:\n",
    "    # Filter dataframes\n",
    "    mgmt_filtered = mgmt_final[mgmt_final['Advisor'] == advisor_name]\n",
    "    sma_filtered = sma_final[sma_final['Advisor'] == advisor_name]\n",
    "    charges_filtered = charges_final[charges_final['Advisor'] == advisor_name]\n",
    "\n",
    "    # Calculate totals for summary and details sheet\n",
    "    mgmt_total = mgmt_filtered['Final Commission'].sum()\n",
    "    sma_total = sma_filtered['Final Commission'].sum()\n",
    "    charges_total = charges_filtered['Final Charge'].sum()\n",
    "    payout_total = mgmt_total + sma_total - charges_total\n",
    "\n",
    "    # Build output filename\n",
    "    output_filename = f\"Payout_{advisor_name.replace(' ', '_')}_Final.xlsx\"\n",
    "\n",
    "    with pd.ExcelWriter(output_filename, engine='xlsxwriter') as writer:\n",
    "        # Write full DataFrames (all advisors) to their respective sheets\n",
    "        mgmt_final.to_excel(writer, sheet_name='Management Bill', index=False)\n",
    "        sma_final.to_excel(writer, sheet_name='SMA Fees', index=False)\n",
    "        charges_final.to_excel(writer, sheet_name='Charges', index=False)\n",
    "\n",
    "        workbook = writer.book\n",
    "\n",
    "        # ------------- Commission_Detail SHEET -------------\n",
    "        ws = workbook.add_worksheet('Commission_Detail')\n",
    "        writer.sheets['Commission_Detail'] = ws\n",
    "\n",
    "        # Formats\n",
    "        yellow = workbook.add_format({'bg_color': '#FFFF00', 'bold': True, 'align': 'center'})\n",
    "        money = workbook.add_format({'num_format': '$#,##0.00'})\n",
    "        bold = workbook.add_format({'bold': True})\n",
    "\n",
    "        # --- 1. Management Bill Section (starts at A4) ---\n",
    "        ws.write('A3', 'Management Bill', yellow)\n",
    "        mgmt_filtered.to_excel(writer, sheet_name='Commission_Detail', startrow=4, startcol=0, index=False, header=True)\n",
    "        ws.write('K2', mgmt_total, money)  # Total above last column\n",
    "\n",
    "        # --- 2. SMA Fees Section (starts at N4) ---\n",
    "        ws.write('N3', 'SMA Fees', yellow)\n",
    "        sma_filtered.to_excel(writer, sheet_name='Commission_Detail', startrow=4, startcol=13, index=False, header=True)\n",
    "        ws.write('W2', sma_total, money)  # Total above last column\n",
    "\n",
    "        # --- 3. Charges Section (starts at AA4) ---\n",
    "        ws.write('AA3', 'Charges', yellow)\n",
    "        charges_filtered.to_excel(writer, sheet_name='Commission_Detail', startrow=4, startcol=26, index=False, header=True)\n",
    "        ws.write('AJ2', charges_total, money)  # Total above last column\n",
    "\n",
    "        # ------------- SUMMARY SHEET -------------\n",
    "        ws_sum = workbook.add_worksheet('Summary')\n",
    "        writer.sheets['Summary'] = ws_sum\n",
    "\n",
    "        # Layout per your image\n",
    "        ws_sum.write('C2', advisor_name, yellow)\n",
    "        ws_sum.write('C3', 'Template', bold)\n",
    "        ws_sum.write('C4', 'COMMISSION SUMMARY', bold)\n",
    "        ws_sum.write('C5', 'DATE')\n",
    "\n",
    "        ws_sum.write('E8', 'Notes', bold)\n",
    "        ws_sum.write('C10', 'MANAGEMENT FEES', bold)\n",
    "        ws_sum.write('C12', 'SMA FEES', bold)\n",
    "        ws_sum.write('C14', 'CHARGES', bold)\n",
    "        ws_sum.write('C18', 'PAYOUT', bold)\n",
    "\n",
    "        # Link to Commission_Detail totals\n",
    "        ws_sum.write_formula('D10', \"=Commission_Detail!K2\")\n",
    "        ws_sum.write_formula('D12', \"=Commission_Detail!W2\")\n",
    "        ws_sum.write_formula('D14', \"=-Commission_Detail!AJ2\")\n",
    "\n",
    "        # Payout = sum of above (or D10+D12+D14)\n",
    "        ws_sum.write_formula('D18', \"=SUM(D10:D14)\", money)\n",
    "\n",
    "        # (Optional) Formatting for the payout cell\n",
    "        ws_sum.set_row(17, None, bold)  # Row 18 = index 17\n",
    "\n",
    "    print(f\"Workbook created for {advisor_name}: {output_filename}\")"
   ]
  },
  {
   "cell_type": "code",
   "execution_count": null,
   "id": "ac434ee3-0aea-44ba-b6c8-55e935c6d17e",
   "metadata": {},
   "outputs": [],
   "source": []
  },
  {
   "cell_type": "code",
   "execution_count": null,
   "id": "62549850-1789-4317-a1bd-a013974b76a3",
   "metadata": {},
   "outputs": [],
   "source": []
  },
  {
   "cell_type": "code",
   "execution_count": null,
   "id": "3cbbbb60-a118-48e5-b3af-61cfb97c7b81",
   "metadata": {},
   "outputs": [],
   "source": []
  },
  {
   "cell_type": "code",
   "execution_count": null,
   "id": "11885ec6-01b4-4a86-924b-c3bfce88a8f1",
   "metadata": {},
   "outputs": [],
   "source": []
  },
  {
   "cell_type": "code",
   "execution_count": null,
   "id": "65e2d817-e409-4d5d-a377-a5bd40ace87e",
   "metadata": {},
   "outputs": [],
   "source": []
  },
  {
   "cell_type": "code",
   "execution_count": null,
   "id": "f6fd01a3-a184-460a-a292-6b1c9087057f",
   "metadata": {},
   "outputs": [],
   "source": []
  },
  {
   "cell_type": "code",
   "execution_count": null,
   "id": "2a7705f0-0181-4c54-83e8-870409de46d4",
   "metadata": {},
   "outputs": [],
   "source": []
  },
  {
   "cell_type": "code",
   "execution_count": null,
   "id": "3092b161-c272-4143-90d5-9934a650e74b",
   "metadata": {},
   "outputs": [],
   "source": []
  },
  {
   "cell_type": "code",
   "execution_count": null,
   "id": "af2d5e29-6790-4678-af31-108443138022",
   "metadata": {},
   "outputs": [],
   "source": []
  },
  {
   "cell_type": "code",
   "execution_count": null,
   "id": "1a90e474-497b-4513-8404-19922120c1ce",
   "metadata": {},
   "outputs": [],
   "source": []
  },
  {
   "cell_type": "code",
   "execution_count": null,
   "id": "005f9e4b-d343-4a41-9a83-7e38203aaaa8",
   "metadata": {},
   "outputs": [],
   "source": []
  },
  {
   "cell_type": "code",
   "execution_count": null,
   "id": "393d9a5d-aec0-4c9c-bd70-c8343c1592e6",
   "metadata": {},
   "outputs": [],
   "source": []
  },
  {
   "cell_type": "code",
   "execution_count": null,
   "id": "2ee7900b-d96e-481c-926b-2047f016b577",
   "metadata": {},
   "outputs": [],
   "source": []
  },
  {
   "cell_type": "code",
   "execution_count": null,
   "id": "41937844-764d-42ab-b0e6-1ccd462f7f59",
   "metadata": {},
   "outputs": [],
   "source": []
  },
  {
   "cell_type": "code",
   "execution_count": null,
   "id": "2e376b92-4e8f-410e-a61c-b45c25309d29",
   "metadata": {},
   "outputs": [],
   "source": []
  },
  {
   "cell_type": "code",
   "execution_count": null,
   "id": "c0803b84-d836-45a3-b014-54d98316ca7b",
   "metadata": {},
   "outputs": [],
   "source": []
  }
 ],
 "metadata": {
  "kernelspec": {
   "display_name": "Python 3 (ipykernel)",
   "language": "python",
   "name": "python3"
  },
  "language_info": {
   "codemirror_mode": {
    "name": "ipython",
    "version": 3
   },
   "file_extension": ".py",
   "mimetype": "text/x-python",
   "name": "python",
   "nbconvert_exporter": "python",
   "pygments_lexer": "ipython3",
   "version": "3.11.7"
  }
 },
 "nbformat": 4,
 "nbformat_minor": 5
}
